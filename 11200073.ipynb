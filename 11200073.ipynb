{
  "nbformat": 4,
  "nbformat_minor": 0,
  "metadata": {
    "colab": {
      "name": "TWMU_2020_s1_Lecture_02-report-01.ipynb",
      "provenance": [],
      "collapsed_sections": [],
      "toc_visible": true,
      "include_colab_link": true
    },
    "kernelspec": {
      "name": "python3",
      "display_name": "Python 3"
    }
  },
  "cells": [
    {
      "cell_type": "markdown",
      "metadata": {
        "id": "view-in-github",
        "colab_type": "text"
      },
      "source": [
        "<a href=\"https://colab.research.google.com/github/YujiSue4Edu/TWMU_2020/blob/master/11200073.ipynb\" target=\"_parent\"><img src=\"https://colab.research.google.com/assets/colab-badge.svg\" alt=\"Open In Colab\"/></a>"
      ]
    },
    {
      "cell_type": "markdown",
      "metadata": {
        "id": "Zuho_FuZ98VK",
        "colab_type": "text"
      },
      "source": [
        "# 課題１\n",
        "## AIによる画像識別  \n",
        "  以下のいずれかを実行してください  \n",
        "  \n",
        "*  PC/スマホに画像を保存してから使いたいとき\n",
        "  1.  左のフォルダアイコンをクリックして「アップロード」\n",
        "  をクリック/タップして、画像をアップロードします  \n",
        "  2.  下セルのコード10行目の「画像名 = 」の右に、引用符でくくった画像ファイル名を記入してください  \n",
        "  ![代替テキスト](https://user-images.githubusercontent.com/25998652/83730351-e7e9b080-a683-11ea-9d22-932263316543.png)\n",
        "  \n",
        "*  ネット上の画像を使いたいとき  \n",
        "  1.  画像ファイル名を決める  \n",
        "  下セルのコード10行目の「画像名 = 」の右に、引用符でくくった画像ファイル名を記入してください\n",
        "  2.  画像のURLを調べる  \n",
        "  使いたい画像をブラウザで開いて、ブラウザ上部のアドレスをコピーします  \n",
        "  3.  下のセルの15行目「画像のURL = 」の右側に、引用符でくくって画像のURLをペーストしてください\n",
        "\n",
        "  ※ 注意：画像のURLは必ず画像本体を示すアドレスでなくてはいけません  \n",
        "  例えばTwitterなどで画像を開くと、以下のようなアドレスのページが開きますが、これは画像本体を表すURLではありません  \n",
        "  https://twitter.com/SHARP_JP/status/717912259607994370/photo/1  \n",
        "  表示される画像の上で「右クリック(Macの場合はControlキー押しながらクリック)」をして、「画像だけを表示」してアドレスをコピーしてください  \n",
        "  例：https://pbs.twimg.com/media/CfaJZPjUMAAfXas?format=jpg&name=small\n",
        "\n"
      ]
    },
    {
      "cell_type": "code",
      "metadata": {
        "id": "7y1lUuFO9HYG",
        "colab_type": "code",
        "colab": {
          "base_uri": "https://localhost:8080/",
          "height": 413
        },
        "outputId": "a4a3da41-2dfd-4e7b-ebc2-25109cf7209a"
      },
      "source": [
        "#必要なPythonプログラムを読み込み\n",
        "from keras.preprocessing import image\n",
        "from keras.applications.resnet50 import ResNet50\n",
        "from keras.applications.resnet50 import preprocess_input, decode_predictions\n",
        "import numpy as np\n",
        "import requests\n",
        "from IPython.display import Image, display_jpeg, display_png, display_pdf\n",
        "\n",
        "# 画像の名前を指定\n",
        "画像名 = 'ヨークシャテリア.jpg' # ←画像ファイル名を入れてください\n",
        "\n",
        "#########　ネット上の画像を使用する場合　######## \n",
        "#画像をダウンロード\n",
        "try:\n",
        "  画像のURL = 'http://www.docdog.jp/2019/06/magazine-dogs-s-a-56.html' # ←画像のアドレス(URL)を入れてください\n",
        "  response = requests.get(画像のURL)\n",
        "  #画像ファイルを保存\n",
        "  画像ファイル = open(画像名, 'wb')\n",
        "  画像ファイル.write(response.content)\n",
        "except Exception as e:\n",
        "  print(e)\n",
        "################################################## \n",
        "\n",
        "# すでに研究者が学習させた人工知能を読み込みます\n",
        "テストAI = ResNet50(weights='imagenet')\n",
        "\n",
        "# さきほどダウンロードした画像をあらためて読み込みます\n",
        "画像 = image.load_img(画像名, target_size=(224, 224))\n",
        "\n",
        "# 画像データをAIが認識できる形に変換・前処理します\n",
        "変換画像 = image.img_to_array(画像)\n",
        "変換画像 = np.expand_dims(変換画像, axis=0)\n",
        "変換画像 = preprocess_input(変換画像)\n",
        "# AIに予測させて結果を取得します\n",
        "予測 = テストAI.predict(変換画像)\n",
        "結果 = decode_predictions(予測, top=3)[0]\n",
        "\n",
        "# 3.結果を表示\n",
        "display_jpeg(Image(画像名))\n",
        "# ※画像ファイルがPNG形式の場合は\n",
        "# display_png(Image('画像ファイル'))\n",
        "\n",
        "print('第１候補：', 結果[0][1], '(予想確率：', 結果[0][2]*100, '％）')\n",
        "print('第２候補：', 結果[1][1], '(予想確率：', 結果[1][2]*100, '％）')\n",
        "print('第３候補：', 結果[2][1], '(予想確率：', 結果[2][2]*100, '％）')"
      ],
      "execution_count": 2,
      "outputs": [
        {
          "output_type": "error",
          "ename": "UnidentifiedImageError",
          "evalue": "ignored",
          "traceback": [
            "\u001b[0;31m---------------------------------------------------------------------------\u001b[0m",
            "\u001b[0;31mUnidentifiedImageError\u001b[0m                    Traceback (most recent call last)",
            "\u001b[0;32m<ipython-input-2-ccdc2c1a7e9d>\u001b[0m in \u001b[0;36m<module>\u001b[0;34m()\u001b[0m\n\u001b[1;32m     26\u001b[0m \u001b[0;34m\u001b[0m\u001b[0m\n\u001b[1;32m     27\u001b[0m \u001b[0;31m# さきほどダウンロードした画像をあらためて読み込みます\u001b[0m\u001b[0;34m\u001b[0m\u001b[0;34m\u001b[0m\u001b[0;34m\u001b[0m\u001b[0m\n\u001b[0;32m---> 28\u001b[0;31m \u001b[0m画像\u001b[0m \u001b[0;34m=\u001b[0m \u001b[0mimage\u001b[0m\u001b[0;34m.\u001b[0m\u001b[0mload_img\u001b[0m\u001b[0;34m(\u001b[0m\u001b[0m画像名\u001b[0m\u001b[0;34m,\u001b[0m \u001b[0mtarget_size\u001b[0m\u001b[0;34m=\u001b[0m\u001b[0;34m(\u001b[0m\u001b[0;36m224\u001b[0m\u001b[0;34m,\u001b[0m \u001b[0;36m224\u001b[0m\u001b[0;34m)\u001b[0m\u001b[0;34m)\u001b[0m\u001b[0;34m\u001b[0m\u001b[0;34m\u001b[0m\u001b[0m\n\u001b[0m\u001b[1;32m     29\u001b[0m \u001b[0;34m\u001b[0m\u001b[0m\n\u001b[1;32m     30\u001b[0m \u001b[0;31m# 画像データをAIが認識できる形に変換・前処理します\u001b[0m\u001b[0;34m\u001b[0m\u001b[0;34m\u001b[0m\u001b[0;34m\u001b[0m\u001b[0m\n",
            "\u001b[0;32m/usr/local/lib/python3.6/dist-packages/keras_preprocessing/image/utils.py\u001b[0m in \u001b[0;36mload_img\u001b[0;34m(path, grayscale, color_mode, target_size, interpolation)\u001b[0m\n\u001b[1;32m    112\u001b[0m                           'The use of `load_img` requires PIL.')\n\u001b[1;32m    113\u001b[0m     \u001b[0;32mwith\u001b[0m \u001b[0mopen\u001b[0m\u001b[0;34m(\u001b[0m\u001b[0mpath\u001b[0m\u001b[0;34m,\u001b[0m \u001b[0;34m'rb'\u001b[0m\u001b[0;34m)\u001b[0m \u001b[0;32mas\u001b[0m \u001b[0mf\u001b[0m\u001b[0;34m:\u001b[0m\u001b[0;34m\u001b[0m\u001b[0;34m\u001b[0m\u001b[0m\n\u001b[0;32m--> 114\u001b[0;31m         \u001b[0mimg\u001b[0m \u001b[0;34m=\u001b[0m \u001b[0mpil_image\u001b[0m\u001b[0;34m.\u001b[0m\u001b[0mopen\u001b[0m\u001b[0;34m(\u001b[0m\u001b[0mio\u001b[0m\u001b[0;34m.\u001b[0m\u001b[0mBytesIO\u001b[0m\u001b[0;34m(\u001b[0m\u001b[0mf\u001b[0m\u001b[0;34m.\u001b[0m\u001b[0mread\u001b[0m\u001b[0;34m(\u001b[0m\u001b[0;34m)\u001b[0m\u001b[0;34m)\u001b[0m\u001b[0;34m)\u001b[0m\u001b[0;34m\u001b[0m\u001b[0;34m\u001b[0m\u001b[0m\n\u001b[0m\u001b[1;32m    115\u001b[0m         \u001b[0;32mif\u001b[0m \u001b[0mcolor_mode\u001b[0m \u001b[0;34m==\u001b[0m \u001b[0;34m'grayscale'\u001b[0m\u001b[0;34m:\u001b[0m\u001b[0;34m\u001b[0m\u001b[0;34m\u001b[0m\u001b[0m\n\u001b[1;32m    116\u001b[0m             \u001b[0;31m# if image is not already an 8-bit, 16-bit or 32-bit grayscale image\u001b[0m\u001b[0;34m\u001b[0m\u001b[0;34m\u001b[0m\u001b[0;34m\u001b[0m\u001b[0m\n",
            "\u001b[0;32m/usr/local/lib/python3.6/dist-packages/PIL/Image.py\u001b[0m in \u001b[0;36mopen\u001b[0;34m(fp, mode)\u001b[0m\n\u001b[1;32m   2860\u001b[0m         \u001b[0mwarnings\u001b[0m\u001b[0;34m.\u001b[0m\u001b[0mwarn\u001b[0m\u001b[0;34m(\u001b[0m\u001b[0mmessage\u001b[0m\u001b[0;34m)\u001b[0m\u001b[0;34m\u001b[0m\u001b[0;34m\u001b[0m\u001b[0m\n\u001b[1;32m   2861\u001b[0m     raise UnidentifiedImageError(\n\u001b[0;32m-> 2862\u001b[0;31m         \u001b[0;34m\"cannot identify image file %r\"\u001b[0m \u001b[0;34m%\u001b[0m \u001b[0;34m(\u001b[0m\u001b[0mfilename\u001b[0m \u001b[0;32mif\u001b[0m \u001b[0mfilename\u001b[0m \u001b[0;32melse\u001b[0m \u001b[0mfp\u001b[0m\u001b[0;34m)\u001b[0m\u001b[0;34m\u001b[0m\u001b[0;34m\u001b[0m\u001b[0m\n\u001b[0m\u001b[1;32m   2863\u001b[0m     )\n\u001b[1;32m   2864\u001b[0m \u001b[0;34m\u001b[0m\u001b[0m\n",
            "\u001b[0;31mUnidentifiedImageError\u001b[0m: cannot identify image file <_io.BytesIO object at 0x7f69b404adb0>"
          ]
        }
      ]
    },
    {
      "cell_type": "markdown",
      "metadata": {
        "id": "lzWoRtL7--kf",
        "colab_type": "text"
      },
      "source": [
        ""
      ]
    }
  ]
}